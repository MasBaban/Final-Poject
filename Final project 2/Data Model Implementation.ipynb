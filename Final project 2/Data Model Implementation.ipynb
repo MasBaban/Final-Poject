{
 "cells": [
  {
   "cell_type": "code",
   "execution_count": 1,
   "metadata": {},
   "outputs": [],
   "source": [
    "import numpy as np\n",
    "import pandas as pd\n",
    "import matplotlib.pyplot as plt\n",
    "import seaborn as sns\n",
    "from sklearn.model_selection import cross_val_score, cross_validate,  StratifiedKFold, RepeatedStratifiedKFold, RandomizedSearchCV\n",
    "from plotly.subplots import make_subplots\n",
    "import category_encoders as ce\n",
    "from sklearn.preprocessing import LabelEncoder as le\n",
    "from collections import defaultdict\n",
    "from collections import Counter\n",
    "from imblearn.pipeline import Pipeline\n",
    "from sklearn.feature_selection import RFE\n",
    "from sklearn.preprocessing import PolynomialFeatures, StandardScaler, OneHotEncoder, RobustScaler\n",
    "from sklearn.decomposition import PCA\n",
    "from sklearn.impute import SimpleImputer\n",
    "from sklearn.compose import ColumnTransformer\n",
    "from imblearn.over_sampling import SMOTE\n",
    "from sklearn.model_selection import train_test_split\n",
    "from sklearn.metrics import confusion_matrix,accuracy_score,recall_score\n",
    "from sklearn.linear_model import LogisticRegression\n",
    "from sklearn.tree import DecisionTreeClassifier\n",
    "from sklearn.ensemble import RandomForestClassifier\n",
    "from xgboost import XGBClassifier\n",
    "from sklearn.metrics import confusion_matrix, classification_report, f1_score, recall_score, precision_score, plot_confusion_matrix, plot_roc_curve, roc_curve, make_scorer, plot_precision_recall_curve\n",
    "import joblib\n",
    "import pickle\n"
   ]
  },
  {
   "cell_type": "code",
   "execution_count": 2,
   "metadata": {},
   "outputs": [],
   "source": [
    "hrd_train = pd.read_csv('hrd_for_modelling.csv')"
   ]
  },
  {
   "cell_type": "code",
   "execution_count": 3,
   "metadata": {},
   "outputs": [],
   "source": [
    "X = hrd_train.drop(columns=['target','Unnamed: 0', 'enrollee_id', 'city'])\n",
    "y = hrd_train['target']"
   ]
  },
  {
   "cell_type": "code",
   "execution_count": 4,
   "metadata": {},
   "outputs": [],
   "source": [
    "X_train_val, X_test, y_train_val, y_test = train_test_split(X, y, test_size=0.2, random_state=42)"
   ]
  },
  {
   "cell_type": "markdown",
   "metadata": {},
   "source": [
    "# Base Model"
   ]
  },
  {
   "cell_type": "code",
   "execution_count": 5,
   "metadata": {},
   "outputs": [],
   "source": [
    "lr = LogisticRegression()\n",
    "dtc = DecisionTreeClassifier()\n",
    "xgb = XGBClassifier()\n",
    "smote = SMOTE()"
   ]
  },
  {
   "cell_type": "code",
   "execution_count": 6,
   "metadata": {},
   "outputs": [],
   "source": [
    "ordinal_mapping = [\n",
    "    {'col' : 'education_level',\n",
    "    'mapping':{'Primary School':1, 'High School':2, 'Graduate':3, 'Masters':4}},\n",
    "    {'col' : 'relevent_experience',\n",
    "    'mapping':{'No relevent experience':1, 'Has relevent experience':2}},\n",
    "    {'col' : 'experience',\n",
    "    'mapping':{'<1':0, '1':1, '2':2, '3':3, '4':4, '5':5, '6':6, '7':7, '8':8, '9':9, '10':10,\n",
    "               '11':11,'12':12, '13':13, '14':14, '15':15, '16':16, '17':17, '18':18, '19':19, '20':20, '>20':21 }},\n",
    "    {'col' : 'last_new_job',\n",
    "    'mapping':{'never':0, '1':1,'2':2,'3':3,'4':4, '>4':4}},\n",
    "]\n",
    "\n",
    "ordinal_encoder = ce.OrdinalEncoder(cols=['education_level','relevent_experience','experience','last_new_job'],mapping=ordinal_mapping)"
   ]
  },
  {
   "cell_type": "markdown",
   "metadata": {},
   "source": [
    "## Logistic Regression Pipeline"
   ]
  },
  {
   "cell_type": "code",
   "execution_count": 7,
   "metadata": {},
   "outputs": [],
   "source": [
    "lr_pipe_num = Pipeline([\n",
    "    ('scaler', StandardScaler()),\n",
    "    ('pca', PCA(n_components=2))\n",
    "])\n",
    "\n",
    "lr_transformer = ColumnTransformer([\n",
    "    ('pipe_num', lr_pipe_num, ['city_development_index', 'training_hours']),\n",
    "    ('onehot', OneHotEncoder(drop='first'),['gender','enrolled_university','major_discipline']),\n",
    "    ('binary', ce.OrdinalEncoder(mapping=ordinal_mapping),['relevent_experience','education_level','experience','last_new_job'])\n",
    "], remainder='passthrough')\n",
    "\n",
    "lr_pipe_combine = Pipeline([\n",
    "    ('transformer', lr_transformer),\n",
    "    ('rfe', RFE(lr)),\n",
    "    ('resampling', smote),\n",
    "    ('lr', lr)\n",
    "])"
   ]
  },
  {
   "cell_type": "markdown",
   "metadata": {},
   "source": [
    "## Decision Tree Classifier Pipeline"
   ]
  },
  {
   "cell_type": "code",
   "execution_count": 8,
   "metadata": {},
   "outputs": [],
   "source": [
    "dtc_pipe_num = Pipeline([\n",
    "    ('scaler', StandardScaler()),\n",
    "    ('pca', PCA(n_components=2))\n",
    "])\n",
    "\n",
    "dtc_transformer = ColumnTransformer([\n",
    "    ('pipe_num', dtc_pipe_num, ['city_development_index', 'training_hours']),\n",
    "    ('onehot', OneHotEncoder(drop='first'),['gender','enrolled_university','major_discipline']),\n",
    "    ('binary', ce.OrdinalEncoder(mapping=ordinal_mapping),['relevent_experience','education_level','experience','last_new_job'])\n",
    "], remainder='passthrough')\n",
    "\n",
    "dtc_pipe_combine = Pipeline([\n",
    "    ('transformer', dtc_transformer),\n",
    "    ('rfe', RFE(dtc)),\n",
    "    ('resampling', smote),\n",
    "    ('dtc', dtc)\n",
    "])"
   ]
  },
  {
   "cell_type": "markdown",
   "metadata": {},
   "source": [
    "## XGB Pipeline"
   ]
  },
  {
   "cell_type": "code",
   "execution_count": 9,
   "metadata": {},
   "outputs": [],
   "source": [
    "xgb_pipe_num = Pipeline([\n",
    "    ('scaler', StandardScaler()),\n",
    "    ('pca', PCA(n_components=2))\n",
    "])\n",
    "\n",
    "xgb_transformer = ColumnTransformer([\n",
    "    ('pipe_num', xgb_pipe_num, ['city_development_index', 'training_hours']),\n",
    "    ('onehot', OneHotEncoder(drop='first'),['gender','enrolled_university','major_discipline']),\n",
    "    ('binary', ce.OrdinalEncoder(mapping=ordinal_mapping),['relevent_experience','education_level','experience','last_new_job'])\n",
    "], remainder='passthrough')\n",
    "\n",
    "xgb_pipe_combine = Pipeline([\n",
    "    ('transformer', xgb_transformer),\n",
    "    ('rfe', RFE(xgb)),\n",
    "    ('resampling', smote),\n",
    "    ('xgb', xgb)\n",
    "])"
   ]
  },
  {
   "cell_type": "code",
   "execution_count": 10,
   "metadata": {},
   "outputs": [
    {
     "name": "stderr",
     "output_type": "stream",
     "text": [
      "[Parallel(n_jobs=-1)]: Using backend LokyBackend with 4 concurrent workers.\n",
      "[Parallel(n_jobs=-1)]: Done   5 out of   5 | elapsed:   23.7s finished\n",
      "[Parallel(n_jobs=-1)]: Using backend LokyBackend with 4 concurrent workers.\n",
      "[Parallel(n_jobs=-1)]: Done   5 out of   5 | elapsed:    3.1s finished\n",
      "[Parallel(n_jobs=-1)]: Using backend LokyBackend with 4 concurrent workers.\n",
      "[Parallel(n_jobs=-1)]: Done   5 out of   5 | elapsed:   42.0s finished\n"
     ]
    }
   ],
   "source": [
    "lr_score = cross_val_score(lr_pipe_combine, X_train_val, y_train_val, scoring='recall', cv=5, n_jobs=-1, verbose=1)\n",
    "dtc_score = cross_val_score(dtc_pipe_combine, X_train_val, y_train_val, scoring='recall', cv=5, n_jobs=-1, verbose=1)\n",
    "xgb_score = cross_val_score(xgb_pipe_combine, X_train_val, y_train_val, scoring='recall', cv=5, n_jobs=-1, verbose=1)"
   ]
  },
  {
   "cell_type": "code",
   "execution_count": 11,
   "metadata": {},
   "outputs": [
    {
     "name": "stdout",
     "output_type": "stream",
     "text": [
      "LR Val Score: 0.6368627450980393\n",
      "DTC Val Score: 0.45202614379084965\n",
      "XGB Val Score: 0.5848366013071896\n"
     ]
    }
   ],
   "source": [
    "print('LR Val Score:', lr_score.mean())\n",
    "print('DTC Val Score:', dtc_score.mean())\n",
    "print('XGB Val Score:', xgb_score.mean())"
   ]
  },
  {
   "cell_type": "markdown",
   "metadata": {},
   "source": [
    "### since Linear Regression have higher score, im gonna use Linear Reggresion base model"
   ]
  },
  {
   "cell_type": "code",
   "execution_count": 12,
   "metadata": {},
   "outputs": [
    {
     "data": {
      "text/plain": [
       "{'memory': None,\n",
       " 'steps': [('transformer',\n",
       "   ColumnTransformer(remainder='passthrough',\n",
       "                     transformers=[('pipe_num',\n",
       "                                    Pipeline(steps=[('scaler', StandardScaler()),\n",
       "                                                    ('pca', PCA(n_components=2))]),\n",
       "                                    ['city_development_index', 'training_hours']),\n",
       "                                   ('onehot', OneHotEncoder(drop='first'),\n",
       "                                    ['gender', 'enrolled_university',\n",
       "                                     'major_discipline']),\n",
       "                                   ('binary',\n",
       "                                    OrdinalEncoder(mapping=[{'col': 'education_level',\n",
       "                                                             'mapping': {'G...\n",
       "                                                                         'No relevent experience': 1}},\n",
       "                                                            {'col': 'experience',\n",
       "                                                             'mapping': {'1': 1,\n",
       "                                                                         '10': 10,\n",
       "                                                                         '11': 11,\n",
       "                                                                         '12': 12,\n",
       "                                                                         '13': 13,\n",
       "                                                                         '14': 14,\n",
       "                                                                         '15': 15,\n",
       "                                                                         '16': 16,\n",
       "                                                                         '17': 17,\n",
       "                                                                         '18': 18,\n",
       "                                                                         '19': 19,\n",
       "                                                                         '2': 2,\n",
       "                                                                         '20': 20,\n",
       "                                                                         '3': 3,\n",
       "                                                                         '4': 4,\n",
       "                                                                         '5': 5,\n",
       "                                                                         '6': 6,\n",
       "                                                                         '7': 7,\n",
       "                                                                         '8': 8,\n",
       "                                                                         '9': 9,\n",
       "                                                                         '<1': 0,\n",
       "                                                                         '>20': 21}},\n",
       "                                                            {'col': 'last_new_job',\n",
       "                                                             'mapping': {'1': 1,\n",
       "                                                                         '2': 2,\n",
       "                                                                         '3': 3,\n",
       "                                                                         '4': 4,\n",
       "                                                                         '>4': 4,\n",
       "                                                                         'never': 0}}]),\n",
       "                                    ['relevent_experience', 'education_level',\n",
       "                                     'experience', 'last_new_job'])])),\n",
       "  ('rfe', RFE(estimator=LogisticRegression())),\n",
       "  ('resampling', SMOTE()),\n",
       "  ('lr', LogisticRegression())],\n",
       " 'verbose': False,\n",
       " 'transformer': ColumnTransformer(remainder='passthrough',\n",
       "                   transformers=[('pipe_num',\n",
       "                                  Pipeline(steps=[('scaler', StandardScaler()),\n",
       "                                                  ('pca', PCA(n_components=2))]),\n",
       "                                  ['city_development_index', 'training_hours']),\n",
       "                                 ('onehot', OneHotEncoder(drop='first'),\n",
       "                                  ['gender', 'enrolled_university',\n",
       "                                   'major_discipline']),\n",
       "                                 ('binary',\n",
       "                                  OrdinalEncoder(mapping=[{'col': 'education_level',\n",
       "                                                           'mapping': {'G...\n",
       "                                                                       'No relevent experience': 1}},\n",
       "                                                          {'col': 'experience',\n",
       "                                                           'mapping': {'1': 1,\n",
       "                                                                       '10': 10,\n",
       "                                                                       '11': 11,\n",
       "                                                                       '12': 12,\n",
       "                                                                       '13': 13,\n",
       "                                                                       '14': 14,\n",
       "                                                                       '15': 15,\n",
       "                                                                       '16': 16,\n",
       "                                                                       '17': 17,\n",
       "                                                                       '18': 18,\n",
       "                                                                       '19': 19,\n",
       "                                                                       '2': 2,\n",
       "                                                                       '20': 20,\n",
       "                                                                       '3': 3,\n",
       "                                                                       '4': 4,\n",
       "                                                                       '5': 5,\n",
       "                                                                       '6': 6,\n",
       "                                                                       '7': 7,\n",
       "                                                                       '8': 8,\n",
       "                                                                       '9': 9,\n",
       "                                                                       '<1': 0,\n",
       "                                                                       '>20': 21}},\n",
       "                                                          {'col': 'last_new_job',\n",
       "                                                           'mapping': {'1': 1,\n",
       "                                                                       '2': 2,\n",
       "                                                                       '3': 3,\n",
       "                                                                       '4': 4,\n",
       "                                                                       '>4': 4,\n",
       "                                                                       'never': 0}}]),\n",
       "                                  ['relevent_experience', 'education_level',\n",
       "                                   'experience', 'last_new_job'])]),\n",
       " 'rfe': RFE(estimator=LogisticRegression()),\n",
       " 'resampling': SMOTE(),\n",
       " 'lr': LogisticRegression(),\n",
       " 'transformer__n_jobs': None,\n",
       " 'transformer__remainder': 'passthrough',\n",
       " 'transformer__sparse_threshold': 0.3,\n",
       " 'transformer__transformer_weights': None,\n",
       " 'transformer__transformers': [('pipe_num',\n",
       "   Pipeline(steps=[('scaler', StandardScaler()), ('pca', PCA(n_components=2))]),\n",
       "   ['city_development_index', 'training_hours']),\n",
       "  ('onehot',\n",
       "   OneHotEncoder(drop='first'),\n",
       "   ['gender', 'enrolled_university', 'major_discipline']),\n",
       "  ('binary',\n",
       "   OrdinalEncoder(mapping=[{'col': 'education_level',\n",
       "                            'mapping': {'Graduate': 3, 'High School': 2,\n",
       "                                        'Masters': 4, 'Primary School': 1}},\n",
       "                           {'col': 'relevent_experience',\n",
       "                            'mapping': {'Has relevent experience': 2,\n",
       "                                        'No relevent experience': 1}},\n",
       "                           {'col': 'experience',\n",
       "                            'mapping': {'1': 1, '10': 10, '11': 11, '12': 12,\n",
       "                                        '13': 13, '14': 14, '15': 15, '16': 16,\n",
       "                                        '17': 17, '18': 18, '19': 19, '2': 2,\n",
       "                                        '20': 20, '3': 3, '4': 4, '5': 5, '6': 6,\n",
       "                                        '7': 7, '8': 8, '9': 9, '<1': 0,\n",
       "                                        '>20': 21}},\n",
       "                           {'col': 'last_new_job',\n",
       "                            'mapping': {'1': 1, '2': 2, '3': 3, '4': 4, '>4': 4,\n",
       "                                        'never': 0}}]),\n",
       "   ['relevent_experience', 'education_level', 'experience', 'last_new_job'])],\n",
       " 'transformer__verbose': False,\n",
       " 'transformer__pipe_num': Pipeline(steps=[('scaler', StandardScaler()), ('pca', PCA(n_components=2))]),\n",
       " 'transformer__onehot': OneHotEncoder(drop='first'),\n",
       " 'transformer__binary': OrdinalEncoder(mapping=[{'col': 'education_level',\n",
       "                          'mapping': {'Graduate': 3, 'High School': 2,\n",
       "                                      'Masters': 4, 'Primary School': 1}},\n",
       "                         {'col': 'relevent_experience',\n",
       "                          'mapping': {'Has relevent experience': 2,\n",
       "                                      'No relevent experience': 1}},\n",
       "                         {'col': 'experience',\n",
       "                          'mapping': {'1': 1, '10': 10, '11': 11, '12': 12,\n",
       "                                      '13': 13, '14': 14, '15': 15, '16': 16,\n",
       "                                      '17': 17, '18': 18, '19': 19, '2': 2,\n",
       "                                      '20': 20, '3': 3, '4': 4, '5': 5, '6': 6,\n",
       "                                      '7': 7, '8': 8, '9': 9, '<1': 0,\n",
       "                                      '>20': 21}},\n",
       "                         {'col': 'last_new_job',\n",
       "                          'mapping': {'1': 1, '2': 2, '3': 3, '4': 4, '>4': 4,\n",
       "                                      'never': 0}}]),\n",
       " 'transformer__pipe_num__memory': None,\n",
       " 'transformer__pipe_num__steps': [('scaler', StandardScaler()),\n",
       "  ('pca', PCA(n_components=2))],\n",
       " 'transformer__pipe_num__verbose': False,\n",
       " 'transformer__pipe_num__scaler': StandardScaler(),\n",
       " 'transformer__pipe_num__pca': PCA(n_components=2),\n",
       " 'transformer__pipe_num__scaler__copy': True,\n",
       " 'transformer__pipe_num__scaler__with_mean': True,\n",
       " 'transformer__pipe_num__scaler__with_std': True,\n",
       " 'transformer__pipe_num__pca__copy': True,\n",
       " 'transformer__pipe_num__pca__iterated_power': 'auto',\n",
       " 'transformer__pipe_num__pca__n_components': 2,\n",
       " 'transformer__pipe_num__pca__random_state': None,\n",
       " 'transformer__pipe_num__pca__svd_solver': 'auto',\n",
       " 'transformer__pipe_num__pca__tol': 0.0,\n",
       " 'transformer__pipe_num__pca__whiten': False,\n",
       " 'transformer__onehot__categories': 'auto',\n",
       " 'transformer__onehot__drop': 'first',\n",
       " 'transformer__onehot__dtype': numpy.float64,\n",
       " 'transformer__onehot__handle_unknown': 'error',\n",
       " 'transformer__onehot__sparse': True,\n",
       " 'transformer__binary__cols': None,\n",
       " 'transformer__binary__drop_invariant': False,\n",
       " 'transformer__binary__handle_missing': 'value',\n",
       " 'transformer__binary__handle_unknown': 'value',\n",
       " 'transformer__binary__mapping': [{'col': 'education_level',\n",
       "   'mapping': {'Primary School': 1,\n",
       "    'High School': 2,\n",
       "    'Graduate': 3,\n",
       "    'Masters': 4}},\n",
       "  {'col': 'relevent_experience',\n",
       "   'mapping': {'No relevent experience': 1, 'Has relevent experience': 2}},\n",
       "  {'col': 'experience',\n",
       "   'mapping': {'<1': 0,\n",
       "    '1': 1,\n",
       "    '2': 2,\n",
       "    '3': 3,\n",
       "    '4': 4,\n",
       "    '5': 5,\n",
       "    '6': 6,\n",
       "    '7': 7,\n",
       "    '8': 8,\n",
       "    '9': 9,\n",
       "    '10': 10,\n",
       "    '11': 11,\n",
       "    '12': 12,\n",
       "    '13': 13,\n",
       "    '14': 14,\n",
       "    '15': 15,\n",
       "    '16': 16,\n",
       "    '17': 17,\n",
       "    '18': 18,\n",
       "    '19': 19,\n",
       "    '20': 20,\n",
       "    '>20': 21}},\n",
       "  {'col': 'last_new_job',\n",
       "   'mapping': {'never': 0, '1': 1, '2': 2, '3': 3, '4': 4, '>4': 4}}],\n",
       " 'transformer__binary__return_df': True,\n",
       " 'transformer__binary__verbose': 0,\n",
       " 'rfe__estimator__C': 1.0,\n",
       " 'rfe__estimator__class_weight': None,\n",
       " 'rfe__estimator__dual': False,\n",
       " 'rfe__estimator__fit_intercept': True,\n",
       " 'rfe__estimator__intercept_scaling': 1,\n",
       " 'rfe__estimator__l1_ratio': None,\n",
       " 'rfe__estimator__max_iter': 100,\n",
       " 'rfe__estimator__multi_class': 'auto',\n",
       " 'rfe__estimator__n_jobs': None,\n",
       " 'rfe__estimator__penalty': 'l2',\n",
       " 'rfe__estimator__random_state': None,\n",
       " 'rfe__estimator__solver': 'lbfgs',\n",
       " 'rfe__estimator__tol': 0.0001,\n",
       " 'rfe__estimator__verbose': 0,\n",
       " 'rfe__estimator__warm_start': False,\n",
       " 'rfe__estimator': LogisticRegression(),\n",
       " 'rfe__n_features_to_select': None,\n",
       " 'rfe__step': 1,\n",
       " 'rfe__verbose': 0,\n",
       " 'resampling__k_neighbors': 5,\n",
       " 'resampling__n_jobs': None,\n",
       " 'resampling__random_state': None,\n",
       " 'resampling__sampling_strategy': 'auto',\n",
       " 'lr__C': 1.0,\n",
       " 'lr__class_weight': None,\n",
       " 'lr__dual': False,\n",
       " 'lr__fit_intercept': True,\n",
       " 'lr__intercept_scaling': 1,\n",
       " 'lr__l1_ratio': None,\n",
       " 'lr__max_iter': 100,\n",
       " 'lr__multi_class': 'auto',\n",
       " 'lr__n_jobs': None,\n",
       " 'lr__penalty': 'l2',\n",
       " 'lr__random_state': None,\n",
       " 'lr__solver': 'lbfgs',\n",
       " 'lr__tol': 0.0001,\n",
       " 'lr__verbose': 0,\n",
       " 'lr__warm_start': False}"
      ]
     },
     "execution_count": 12,
     "metadata": {},
     "output_type": "execute_result"
    }
   ],
   "source": [
    "lr_pipe_combine.get_params()"
   ]
  },
  {
   "cell_type": "code",
   "execution_count": 13,
   "metadata": {},
   "outputs": [],
   "source": [
    "# Param grid\n",
    "lr_params = {\n",
    "    'lr__C': np.linspace(0,1,10),\n",
    "    'lr__solver': ['lbfgs', 'liblinear', 'newton-cg']}"
   ]
  },
  {
   "cell_type": "code",
   "execution_count": 14,
   "metadata": {},
   "outputs": [
    {
     "name": "stdout",
     "output_type": "stream",
     "text": [
      "Fitting 5 folds for each of 10 candidates, totalling 50 fits\n"
     ]
    },
    {
     "name": "stderr",
     "output_type": "stream",
     "text": [
      "[Parallel(n_jobs=-1)]: Using backend LokyBackend with 4 concurrent workers.\n",
      "[Parallel(n_jobs=-1)]: Done  42 tasks      | elapsed:   37.2s\n",
      "[Parallel(n_jobs=-1)]: Done  50 out of  50 | elapsed:   41.9s finished\n",
      "D:\\ANACONDA\\lib\\site-packages\\sklearn\\linear_model\\_logistic.py:762: ConvergenceWarning: lbfgs failed to converge (status=1):\n",
      "STOP: TOTAL NO. of ITERATIONS REACHED LIMIT.\n",
      "\n",
      "Increase the number of iterations (max_iter) or scale the data as shown in:\n",
      "    https://scikit-learn.org/stable/modules/preprocessing.html\n",
      "Please also refer to the documentation for alternative solver options:\n",
      "    https://scikit-learn.org/stable/modules/linear_model.html#logistic-regression\n",
      "  n_iter_i = _check_optimize_result(\n"
     ]
    },
    {
     "data": {
      "text/plain": [
       "RandomizedSearchCV(cv=StratifiedKFold(n_splits=5, random_state=1, shuffle=True),\n",
       "                   estimator=Pipeline(steps=[('transformer',\n",
       "                                              ColumnTransformer(remainder='passthrough',\n",
       "                                                                transformers=[('pipe_num',\n",
       "                                                                               Pipeline(steps=[('scaler',\n",
       "                                                                                                StandardScaler()),\n",
       "                                                                                               ('pca',\n",
       "                                                                                                PCA(n_components=2))]),\n",
       "                                                                               ['city_development_index',\n",
       "                                                                                'training_hours']),\n",
       "                                                                              ('onehot',\n",
       "                                                                               OneHotEncoder(drop='first'),\n",
       "                                                                               ['gend...\n",
       "                                                                                'education_level',\n",
       "                                                                                'experience',\n",
       "                                                                                'last_new_job'])])),\n",
       "                                             ('rfe',\n",
       "                                              RFE(estimator=LogisticRegression())),\n",
       "                                             ('resampling', SMOTE()),\n",
       "                                             ('lr', LogisticRegression())]),\n",
       "                   n_jobs=-1,\n",
       "                   param_distributions={'lr__C': array([0.        , 0.11111111, 0.22222222, 0.33333333, 0.44444444,\n",
       "       0.55555556, 0.66666667, 0.77777778, 0.88888889, 1.        ]),\n",
       "                                        'lr__solver': ['lbfgs', 'liblinear',\n",
       "                                                       'newton-cg']},\n",
       "                   scoring='recall', verbose=1)"
      ]
     },
     "execution_count": 14,
     "metadata": {},
     "output_type": "execute_result"
    }
   ],
   "source": [
    "skf = StratifiedKFold(n_splits=5, shuffle=True, random_state=1)\n",
    "lr_random = RandomizedSearchCV(lr_pipe_combine, param_distributions=lr_params, scoring='recall', cv=skf, verbose=1, n_jobs=-1)\n",
    "lr_random.fit(X_train_val, y_train_val)"
   ]
  },
  {
   "cell_type": "markdown",
   "metadata": {},
   "source": [
    "# Evaluation"
   ]
  },
  {
   "cell_type": "code",
   "execution_count": 16,
   "metadata": {},
   "outputs": [
    {
     "name": "stderr",
     "output_type": "stream",
     "text": [
      "[Parallel(n_jobs=-1)]: Using backend LokyBackend with 4 concurrent workers.\n",
      "[Parallel(n_jobs=-1)]: Done   5 out of   5 | elapsed:   35.6s finished\n"
     ]
    },
    {
     "data": {
      "text/plain": [
       "array([0.61699346, 0.60784314, 0.61176471, 0.65359477, 0.67581699])"
      ]
     },
     "execution_count": 16,
     "metadata": {},
     "output_type": "execute_result"
    }
   ],
   "source": [
    "lr_tuned = lr_random.best_estimator_\n",
    "lr_tuned_score = cross_val_score(lr_tuned, X_train_val, y_train_val, scoring='recall', cv=5, n_jobs=-1, verbose=1)\n",
    "lr_tuned_score"
   ]
  },
  {
   "cell_type": "code",
   "execution_count": 17,
   "metadata": {},
   "outputs": [
    {
     "name": "stderr",
     "output_type": "stream",
     "text": [
      "D:\\ANACONDA\\lib\\site-packages\\sklearn\\linear_model\\_logistic.py:762: ConvergenceWarning: lbfgs failed to converge (status=1):\n",
      "STOP: TOTAL NO. of ITERATIONS REACHED LIMIT.\n",
      "\n",
      "Increase the number of iterations (max_iter) or scale the data as shown in:\n",
      "    https://scikit-learn.org/stable/modules/preprocessing.html\n",
      "Please also refer to the documentation for alternative solver options:\n",
      "    https://scikit-learn.org/stable/modules/linear_model.html#logistic-regression\n",
      "  n_iter_i = _check_optimize_result(\n",
      "D:\\ANACONDA\\lib\\site-packages\\sklearn\\linear_model\\_logistic.py:762: ConvergenceWarning: lbfgs failed to converge (status=1):\n",
      "STOP: TOTAL NO. of ITERATIONS REACHED LIMIT.\n",
      "\n",
      "Increase the number of iterations (max_iter) or scale the data as shown in:\n",
      "    https://scikit-learn.org/stable/modules/preprocessing.html\n",
      "Please also refer to the documentation for alternative solver options:\n",
      "    https://scikit-learn.org/stable/modules/linear_model.html#logistic-regression\n",
      "  n_iter_i = _check_optimize_result(\n"
     ]
    },
    {
     "data": {
      "text/plain": [
       "Pipeline(steps=[('transformer',\n",
       "                 ColumnTransformer(remainder='passthrough',\n",
       "                                   transformers=[('pipe_num',\n",
       "                                                  Pipeline(steps=[('scaler',\n",
       "                                                                   StandardScaler()),\n",
       "                                                                  ('pca',\n",
       "                                                                   PCA(n_components=2))]),\n",
       "                                                  ['city_development_index',\n",
       "                                                   'training_hours']),\n",
       "                                                 ('onehot',\n",
       "                                                  OneHotEncoder(drop='first'),\n",
       "                                                  ['gender',\n",
       "                                                   'enrolled_university',\n",
       "                                                   'major_discipline']),\n",
       "                                                 ('binary',\n",
       "                                                  OrdinalEncoder(mapping=[{'col':...\n",
       "                                                                                       '16': 16,\n",
       "                                                                                       '17': 17,\n",
       "                                                                                       '18': 18,\n",
       "                                                                                       '19': 19,\n",
       "                                                                                       '2': 2,\n",
       "                                                                                       '20': 20,\n",
       "                                                                                       '3': 3,\n",
       "                                                                                       '4': 4,\n",
       "                                                                                       '5': 5,\n",
       "                                                                                       '6': 6,\n",
       "                                                                                       '7': 7,\n",
       "                                                                                       '8': 8,\n",
       "                                                                                       '9': 9,\n",
       "                                                                                       '<1': 0,\n",
       "                                                                                       '>20': 21}},\n",
       "                                                                          {'col': 'last_new_job',\n",
       "                                                                           'mapping': {'1': 1,\n",
       "                                                                                       '2': 2,\n",
       "                                                                                       '3': 3,\n",
       "                                                                                       '4': 4,\n",
       "                                                                                       '>4': 4,\n",
       "                                                                                       'never': 0}}]),\n",
       "                                                  ['relevent_experience',\n",
       "                                                   'education_level',\n",
       "                                                   'experience',\n",
       "                                                   'last_new_job'])])),\n",
       "                ('rfe', RFE(estimator=LogisticRegression())),\n",
       "                ('resampling', SMOTE()), ('lr', LogisticRegression())])"
      ]
     },
     "execution_count": 17,
     "metadata": {},
     "output_type": "execute_result"
    }
   ],
   "source": [
    "lr_tuned.fit(X_train_val, y_train_val)\n",
    "lr_pipe_combine.fit(X_train_val, y_train_val)"
   ]
  },
  {
   "cell_type": "code",
   "execution_count": 18,
   "metadata": {},
   "outputs": [
    {
     "name": "stdout",
     "output_type": "stream",
     "text": [
      "LR Base Score: 0.6368627450980393\n",
      "LR Tuned Score: 0.633202614379085\n"
     ]
    }
   ],
   "source": [
    "print('LR Base Score:', lr_score.mean())\n",
    "print('LR Tuned Score:', lr_tuned_score.mean())"
   ]
  },
  {
   "cell_type": "code",
   "execution_count": 19,
   "metadata": {},
   "outputs": [],
   "source": [
    "y_pred_base = lr_pipe_combine.predict(X_test)\n",
    "y_pred_tuned = lr_tuned.predict(X_test)"
   ]
  },
  {
   "cell_type": "code",
   "execution_count": 20,
   "metadata": {},
   "outputs": [
    {
     "name": "stdout",
     "output_type": "stream",
     "text": [
      "              precision    recall  f1-score   support\n",
      "\n",
      "         0.0       0.86      0.73      0.79      2880\n",
      "         1.0       0.43      0.63      0.52       952\n",
      "\n",
      "    accuracy                           0.70      3832\n",
      "   macro avg       0.65      0.68      0.65      3832\n",
      "weighted avg       0.75      0.70      0.72      3832\n",
      "\n"
     ]
    }
   ],
   "source": [
    "print(classification_report(y_test, y_pred_base))"
   ]
  },
  {
   "cell_type": "code",
   "execution_count": 21,
   "metadata": {},
   "outputs": [
    {
     "name": "stdout",
     "output_type": "stream",
     "text": [
      "              precision    recall  f1-score   support\n",
      "\n",
      "         0.0       0.86      0.72      0.79      2880\n",
      "         1.0       0.43      0.64      0.51       952\n",
      "\n",
      "    accuracy                           0.70      3832\n",
      "   macro avg       0.64      0.68      0.65      3832\n",
      "weighted avg       0.75      0.70      0.72      3832\n",
      "\n"
     ]
    }
   ],
   "source": [
    "print(classification_report(y_test, y_pred_tuned))"
   ]
  },
  {
   "cell_type": "code",
   "execution_count": 22,
   "metadata": {
    "papermill": {
     "duration": 0.96036,
     "end_time": "2021-02-08T04:39:02.657047",
     "exception": false,
     "start_time": "2021-02-08T04:39:01.696687",
     "status": "completed"
    },
    "tags": []
   },
   "outputs": [
    {
     "name": "stderr",
     "output_type": "stream",
     "text": [
      "D:\\ANACONDA\\lib\\site-packages\\sklearn\\linear_model\\_logistic.py:762: ConvergenceWarning: lbfgs failed to converge (status=1):\n",
      "STOP: TOTAL NO. of ITERATIONS REACHED LIMIT.\n",
      "\n",
      "Increase the number of iterations (max_iter) or scale the data as shown in:\n",
      "    https://scikit-learn.org/stable/modules/preprocessing.html\n",
      "Please also refer to the documentation for alternative solver options:\n",
      "    https://scikit-learn.org/stable/modules/linear_model.html#logistic-regression\n",
      "  n_iter_i = _check_optimize_result(\n"
     ]
    },
    {
     "data": {
      "text/plain": [
       "<sklearn.metrics._plot.confusion_matrix.ConfusionMatrixDisplay at 0x232bfbe36d0>"
      ]
     },
     "execution_count": 22,
     "metadata": {},
     "output_type": "execute_result"
    },
    {
     "data": {
      "image/png": "[encoded data removed]",
      "text/plain": [
       "<Figure size 432x288 with 2 Axes>"
      ]
     },
     "metadata": {
      "needs_background": "light"
     },
     "output_type": "display_data"
    }
   ],
   "source": [
    "lr_tuned.fit(X_train_val, y_train_val)\n",
    "plot_confusion_matrix(lr_tuned, X_test, y_test)"
   ]
  },
  {
   "cell_type": "code",
   "execution_count": 23,
   "metadata": {
    "papermill": {
     "duration": 0.955026,
     "end_time": "2021-02-08T04:39:03.952622",
     "exception": false,
     "start_time": "2021-02-08T04:39:02.997596",
     "status": "completed"
    },
    "tags": []
   },
   "outputs": [
    {
     "name": "stderr",
     "output_type": "stream",
     "text": [
      "D:\\ANACONDA\\lib\\site-packages\\sklearn\\linear_model\\_logistic.py:762: ConvergenceWarning: lbfgs failed to converge (status=1):\n",
      "STOP: TOTAL NO. of ITERATIONS REACHED LIMIT.\n",
      "\n",
      "Increase the number of iterations (max_iter) or scale the data as shown in:\n",
      "    https://scikit-learn.org/stable/modules/preprocessing.html\n",
      "Please also refer to the documentation for alternative solver options:\n",
      "    https://scikit-learn.org/stable/modules/linear_model.html#logistic-regression\n",
      "  n_iter_i = _check_optimize_result(\n"
     ]
    },
    {
     "data": {
      "text/plain": [
       "<sklearn.metrics._plot.confusion_matrix.ConfusionMatrixDisplay at 0x232bfbb91c0>"
      ]
     },
     "execution_count": 23,
     "metadata": {},
     "output_type": "execute_result"
    },
    {
     "data": {
      "image/png": "[encoded data removed]",
      "text/plain": [
       "<Figure size 432x288 with 2 Axes>"
      ]
     },
     "metadata": {
      "needs_background": "light"
     },
     "output_type": "display_data"
    }
   ],
   "source": [
    "lr_pipe_combine.fit(X_train_val, y_train_val)\n",
    "plot_confusion_matrix(lr_pipe_combine, X_test, y_test)"
   ]
  },
  {
   "cell_type": "code",
   "execution_count": 24,
   "metadata": {
    "papermill": {
     "duration": 0.308599,
     "end_time": "2021-02-08T04:39:04.592927",
     "exception": false,
     "start_time": "2021-02-08T04:39:04.284328",
     "status": "completed"
    },
    "tags": []
   },
   "outputs": [
    {
     "data": {
      "text/plain": [
       "<sklearn.metrics._plot.precision_recall_curve.PrecisionRecallDisplay at 0x232bfbe37f0>"
      ]
     },
     "execution_count": 24,
     "metadata": {},
     "output_type": "execute_result"
    },
    {
     "data": {
      "image/png": "[encoded data removed]",
      "text/plain": [
       "<Figure size 432x288 with 1 Axes>"
      ]
     },
     "metadata": {
      "needs_background": "light"
     },
     "output_type": "display_data"
    }
   ],
   "source": [
    "plot_precision_recall_curve(lr_tuned, X_test, y_test)"
   ]
  },
  {
   "cell_type": "code",
   "execution_count": 25,
   "metadata": {},
   "outputs": [
    {
     "data": {
      "text/plain": [
       "<sklearn.metrics._plot.precision_recall_curve.PrecisionRecallDisplay at 0x232c184a0d0>"
      ]
     },
     "execution_count": 25,
     "metadata": {},
     "output_type": "execute_result"
    },
    {
     "data": {
      "image/png": "[encoded data removed]",
      "text/plain": [
       "<Figure size 432x288 with 1 Axes>"
      ]
     },
     "metadata": {
      "needs_background": "light"
     },
     "output_type": "display_data"
    }
   ],
   "source": [
    "plot_precision_recall_curve(lr_pipe_combine, X_test, y_test)"
   ]
  },
  {
   "cell_type": "markdown",
   "metadata": {},
   "source": [
    "# Since the base model have higher score. im gonna use the base model"
   ]
  },
  {
   "cell_type": "code",
   "execution_count": 26,
   "metadata": {},
   "outputs": [
    {
     "name": "stderr",
     "output_type": "stream",
     "text": [
      "D:\\ANACONDA\\lib\\site-packages\\sklearn\\linear_model\\_logistic.py:762: ConvergenceWarning: lbfgs failed to converge (status=1):\n",
      "STOP: TOTAL NO. of ITERATIONS REACHED LIMIT.\n",
      "\n",
      "Increase the number of iterations (max_iter) or scale the data as shown in:\n",
      "    https://scikit-learn.org/stable/modules/preprocessing.html\n",
      "Please also refer to the documentation for alternative solver options:\n",
      "    https://scikit-learn.org/stable/modules/linear_model.html#logistic-regression\n",
      "  n_iter_i = _check_optimize_result(\n"
     ]
    }
   ],
   "source": [
    "lr_pipe_combine.fit(X,y)\n",
    "filename = 'LogisticRegression.sav'\n",
    "pickle.dump(lr_pipe_combine, open(filename, 'wb'))"
   ]
  },
  {
   "cell_type": "code",
   "execution_count": null,
   "metadata": {},
   "outputs": [],
   "source": []
  },
  {
   "cell_type": "code",
   "execution_count": null,
   "metadata": {},
   "outputs": [],
   "source": []
  }
 ],
 "metadata": {
  "kernelspec": {
   "display_name": "Python 3",
   "language": "python",
   "name": "python3"
  },
  "language_info": {
   "codemirror_mode": {
    "name": "ipython",
    "version": 3
   },
   "file_extension": ".py",
   "mimetype": "text/x-python",
   "name": "python",
   "nbconvert_exporter": "python",
   "pygments_lexer": "ipython3",
   "version": "3.8.3"
  }
 },
 "nbformat": 4,
 "nbformat_minor": 4
}
